user={'123':['111','mac',100000],'456':['222','bill',200000],'789':['333','cate',300000]}
ids={'111':123,'222':456,'333':789}   #{id:PIN}
service=['cash withdrawal','cash deposit','balance check','exit']
